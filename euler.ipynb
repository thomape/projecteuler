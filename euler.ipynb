{
 "cells": [
  {
   "cell_type": "code",
   "execution_count": 9,
   "metadata": {},
   "outputs": [
    {
     "name": "stdout",
     "output_type": "stream",
     "text": [
      "233168\n"
     ]
    }
   ],
   "source": [
    "# Multiples of 3 or 5\n",
    "\n",
    "targets = 0\n",
    "for i in range(1000):\n",
    "    if(i%5 == 0 or i % 3 == 0):\n",
    "        targets += i\n",
    "print(targets)"
   ]
  },
  {
   "cell_type": "code",
   "execution_count": 3,
   "metadata": {},
   "outputs": [
    {
     "name": "stdout",
     "output_type": "stream",
     "text": [
      "142406149054244805878994468840730497807690044391152445493238597822984635702016161950\n"
     ]
    }
   ],
   "source": [
    "# Even Fibonacci numbers\n",
    "\n",
    "targets = [0,1]\n",
    "target_sum = 0\n",
    "\n",
    "for i in range(2,400):\n",
    "    targets.append(targets[i - 1] + targets[i - 2])\n",
    "\n",
    "\n",
    "for target in targets:\n",
    "    if(target % 2 == 0):\n",
    "        target_sum += target\n",
    "\n",
    "print(target_sum)"
   ]
  }
 ],
 "metadata": {
  "interpreter": {
   "hash": "f43c7e32f42dee1c3224fcfc2a83d2bcee1bc4ed4a31f98b09450ba19d8096fa"
  },
  "kernelspec": {
   "display_name": "Python 3.10.4 ('jupyter')",
   "language": "python",
   "name": "python3"
  },
  "language_info": {
   "codemirror_mode": {
    "name": "ipython",
    "version": 3
   },
   "file_extension": ".py",
   "mimetype": "text/x-python",
   "name": "python",
   "nbconvert_exporter": "python",
   "pygments_lexer": "ipython3",
   "version": "3.10.4"
  },
  "orig_nbformat": 4
 },
 "nbformat": 4,
 "nbformat_minor": 2
}
